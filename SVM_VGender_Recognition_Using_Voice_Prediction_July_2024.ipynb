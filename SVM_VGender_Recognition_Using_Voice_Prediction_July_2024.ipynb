{
  "nbformat": 4,
  "nbformat_minor": 0,
  "metadata": {
    "colab": {
      "provenance": [],
      "authorship_tag": "ABX9TyNlurj10K3wmFnOOlNyh5hE",
      "include_colab_link": true
    },
    "kernelspec": {
      "name": "python3",
      "display_name": "Python 3"
    },
    "language_info": {
      "name": "python"
    }
  },
  "cells": [
    {
      "cell_type": "markdown",
      "metadata": {
        "id": "view-in-github",
        "colab_type": "text"
      },
      "source": [
        "<a href=\"https://colab.research.google.com/github/HikmahAlBaity/Wisdom/blob/main/SVM_VGender_Recognition_Using_Voice_Prediction_July_2024.ipynb\" target=\"_parent\"><img src=\"https://colab.research.google.com/assets/colab-badge.svg\" alt=\"Open In Colab\"/></a>"
      ]
    },
    {
      "cell_type": "markdown",
      "source": [
        "/content/voice.csv"
      ],
      "metadata": {
        "id": "hOaKhcP6EK0b"
      }
    },
    {
      "cell_type": "code",
      "execution_count": 8,
      "metadata": {
        "colab": {
          "base_uri": "https://localhost:8080/",
          "height": 256
        },
        "id": "LngViCWpCZBw",
        "outputId": "d545191d-365c-472b-da4d-26f2cadfcf23"
      },
      "outputs": [
        {
          "output_type": "execute_result",
          "data": {
            "text/plain": [
              "   meanfreq        sd    median       Q25       Q75       IQR       skew  \\\n",
              "0  0.059781  0.064241  0.032027  0.015071  0.090193  0.075122  12.863462   \n",
              "1  0.066009  0.067310  0.040229  0.019414  0.092666  0.073252  22.423285   \n",
              "2  0.077316  0.083829  0.036718  0.008701  0.131908  0.123207  30.757155   \n",
              "3  0.151228  0.072111  0.158011  0.096582  0.207955  0.111374   1.232831   \n",
              "4  0.135120  0.079146  0.124656  0.078720  0.206045  0.127325   1.101174   \n",
              "\n",
              "          kurt    sp.ent       sfm  ...  centroid   meanfun    minfun  \\\n",
              "0   274.402906  0.893369  0.491918  ...  0.059781  0.084279  0.015702   \n",
              "1   634.613855  0.892193  0.513724  ...  0.066009  0.107937  0.015826   \n",
              "2  1024.927705  0.846389  0.478905  ...  0.077316  0.098706  0.015656   \n",
              "3     4.177296  0.963322  0.727232  ...  0.151228  0.088965  0.017798   \n",
              "4     4.333713  0.971955  0.783568  ...  0.135120  0.106398  0.016931   \n",
              "\n",
              "     maxfun   meandom    mindom    maxdom   dfrange   modindx  label  \n",
              "0  0.275862  0.007812  0.007812  0.007812  0.000000  0.000000   male  \n",
              "1  0.250000  0.009014  0.007812  0.054688  0.046875  0.052632   male  \n",
              "2  0.271186  0.007990  0.007812  0.015625  0.007812  0.046512   male  \n",
              "3  0.250000  0.201497  0.007812  0.562500  0.554688  0.247119   male  \n",
              "4  0.266667  0.712812  0.007812  5.484375  5.476562  0.208274   male  \n",
              "\n",
              "[5 rows x 21 columns]"
            ],
            "text/html": [
              "\n",
              "  <div id=\"df-15be9cf6-db8d-4f38-bf2a-0a9527edb1f1\" class=\"colab-df-container\">\n",
              "    <div>\n",
              "<style scoped>\n",
              "    .dataframe tbody tr th:only-of-type {\n",
              "        vertical-align: middle;\n",
              "    }\n",
              "\n",
              "    .dataframe tbody tr th {\n",
              "        vertical-align: top;\n",
              "    }\n",
              "\n",
              "    .dataframe thead th {\n",
              "        text-align: right;\n",
              "    }\n",
              "</style>\n",
              "<table border=\"1\" class=\"dataframe\">\n",
              "  <thead>\n",
              "    <tr style=\"text-align: right;\">\n",
              "      <th></th>\n",
              "      <th>meanfreq</th>\n",
              "      <th>sd</th>\n",
              "      <th>median</th>\n",
              "      <th>Q25</th>\n",
              "      <th>Q75</th>\n",
              "      <th>IQR</th>\n",
              "      <th>skew</th>\n",
              "      <th>kurt</th>\n",
              "      <th>sp.ent</th>\n",
              "      <th>sfm</th>\n",
              "      <th>...</th>\n",
              "      <th>centroid</th>\n",
              "      <th>meanfun</th>\n",
              "      <th>minfun</th>\n",
              "      <th>maxfun</th>\n",
              "      <th>meandom</th>\n",
              "      <th>mindom</th>\n",
              "      <th>maxdom</th>\n",
              "      <th>dfrange</th>\n",
              "      <th>modindx</th>\n",
              "      <th>label</th>\n",
              "    </tr>\n",
              "  </thead>\n",
              "  <tbody>\n",
              "    <tr>\n",
              "      <th>0</th>\n",
              "      <td>0.059781</td>\n",
              "      <td>0.064241</td>\n",
              "      <td>0.032027</td>\n",
              "      <td>0.015071</td>\n",
              "      <td>0.090193</td>\n",
              "      <td>0.075122</td>\n",
              "      <td>12.863462</td>\n",
              "      <td>274.402906</td>\n",
              "      <td>0.893369</td>\n",
              "      <td>0.491918</td>\n",
              "      <td>...</td>\n",
              "      <td>0.059781</td>\n",
              "      <td>0.084279</td>\n",
              "      <td>0.015702</td>\n",
              "      <td>0.275862</td>\n",
              "      <td>0.007812</td>\n",
              "      <td>0.007812</td>\n",
              "      <td>0.007812</td>\n",
              "      <td>0.000000</td>\n",
              "      <td>0.000000</td>\n",
              "      <td>male</td>\n",
              "    </tr>\n",
              "    <tr>\n",
              "      <th>1</th>\n",
              "      <td>0.066009</td>\n",
              "      <td>0.067310</td>\n",
              "      <td>0.040229</td>\n",
              "      <td>0.019414</td>\n",
              "      <td>0.092666</td>\n",
              "      <td>0.073252</td>\n",
              "      <td>22.423285</td>\n",
              "      <td>634.613855</td>\n",
              "      <td>0.892193</td>\n",
              "      <td>0.513724</td>\n",
              "      <td>...</td>\n",
              "      <td>0.066009</td>\n",
              "      <td>0.107937</td>\n",
              "      <td>0.015826</td>\n",
              "      <td>0.250000</td>\n",
              "      <td>0.009014</td>\n",
              "      <td>0.007812</td>\n",
              "      <td>0.054688</td>\n",
              "      <td>0.046875</td>\n",
              "      <td>0.052632</td>\n",
              "      <td>male</td>\n",
              "    </tr>\n",
              "    <tr>\n",
              "      <th>2</th>\n",
              "      <td>0.077316</td>\n",
              "      <td>0.083829</td>\n",
              "      <td>0.036718</td>\n",
              "      <td>0.008701</td>\n",
              "      <td>0.131908</td>\n",
              "      <td>0.123207</td>\n",
              "      <td>30.757155</td>\n",
              "      <td>1024.927705</td>\n",
              "      <td>0.846389</td>\n",
              "      <td>0.478905</td>\n",
              "      <td>...</td>\n",
              "      <td>0.077316</td>\n",
              "      <td>0.098706</td>\n",
              "      <td>0.015656</td>\n",
              "      <td>0.271186</td>\n",
              "      <td>0.007990</td>\n",
              "      <td>0.007812</td>\n",
              "      <td>0.015625</td>\n",
              "      <td>0.007812</td>\n",
              "      <td>0.046512</td>\n",
              "      <td>male</td>\n",
              "    </tr>\n",
              "    <tr>\n",
              "      <th>3</th>\n",
              "      <td>0.151228</td>\n",
              "      <td>0.072111</td>\n",
              "      <td>0.158011</td>\n",
              "      <td>0.096582</td>\n",
              "      <td>0.207955</td>\n",
              "      <td>0.111374</td>\n",
              "      <td>1.232831</td>\n",
              "      <td>4.177296</td>\n",
              "      <td>0.963322</td>\n",
              "      <td>0.727232</td>\n",
              "      <td>...</td>\n",
              "      <td>0.151228</td>\n",
              "      <td>0.088965</td>\n",
              "      <td>0.017798</td>\n",
              "      <td>0.250000</td>\n",
              "      <td>0.201497</td>\n",
              "      <td>0.007812</td>\n",
              "      <td>0.562500</td>\n",
              "      <td>0.554688</td>\n",
              "      <td>0.247119</td>\n",
              "      <td>male</td>\n",
              "    </tr>\n",
              "    <tr>\n",
              "      <th>4</th>\n",
              "      <td>0.135120</td>\n",
              "      <td>0.079146</td>\n",
              "      <td>0.124656</td>\n",
              "      <td>0.078720</td>\n",
              "      <td>0.206045</td>\n",
              "      <td>0.127325</td>\n",
              "      <td>1.101174</td>\n",
              "      <td>4.333713</td>\n",
              "      <td>0.971955</td>\n",
              "      <td>0.783568</td>\n",
              "      <td>...</td>\n",
              "      <td>0.135120</td>\n",
              "      <td>0.106398</td>\n",
              "      <td>0.016931</td>\n",
              "      <td>0.266667</td>\n",
              "      <td>0.712812</td>\n",
              "      <td>0.007812</td>\n",
              "      <td>5.484375</td>\n",
              "      <td>5.476562</td>\n",
              "      <td>0.208274</td>\n",
              "      <td>male</td>\n",
              "    </tr>\n",
              "  </tbody>\n",
              "</table>\n",
              "<p>5 rows × 21 columns</p>\n",
              "</div>\n",
              "    <div class=\"colab-df-buttons\">\n",
              "\n",
              "  <div class=\"colab-df-container\">\n",
              "    <button class=\"colab-df-convert\" onclick=\"convertToInteractive('df-15be9cf6-db8d-4f38-bf2a-0a9527edb1f1')\"\n",
              "            title=\"Convert this dataframe to an interactive table.\"\n",
              "            style=\"display:none;\">\n",
              "\n",
              "  <svg xmlns=\"http://www.w3.org/2000/svg\" height=\"24px\" viewBox=\"0 -960 960 960\">\n",
              "    <path d=\"M120-120v-720h720v720H120Zm60-500h600v-160H180v160Zm220 220h160v-160H400v160Zm0 220h160v-160H400v160ZM180-400h160v-160H180v160Zm440 0h160v-160H620v160ZM180-180h160v-160H180v160Zm440 0h160v-160H620v160Z\"/>\n",
              "  </svg>\n",
              "    </button>\n",
              "\n",
              "  <style>\n",
              "    .colab-df-container {\n",
              "      display:flex;\n",
              "      gap: 12px;\n",
              "    }\n",
              "\n",
              "    .colab-df-convert {\n",
              "      background-color: #E8F0FE;\n",
              "      border: none;\n",
              "      border-radius: 50%;\n",
              "      cursor: pointer;\n",
              "      display: none;\n",
              "      fill: #1967D2;\n",
              "      height: 32px;\n",
              "      padding: 0 0 0 0;\n",
              "      width: 32px;\n",
              "    }\n",
              "\n",
              "    .colab-df-convert:hover {\n",
              "      background-color: #E2EBFA;\n",
              "      box-shadow: 0px 1px 2px rgba(60, 64, 67, 0.3), 0px 1px 3px 1px rgba(60, 64, 67, 0.15);\n",
              "      fill: #174EA6;\n",
              "    }\n",
              "\n",
              "    .colab-df-buttons div {\n",
              "      margin-bottom: 4px;\n",
              "    }\n",
              "\n",
              "    [theme=dark] .colab-df-convert {\n",
              "      background-color: #3B4455;\n",
              "      fill: #D2E3FC;\n",
              "    }\n",
              "\n",
              "    [theme=dark] .colab-df-convert:hover {\n",
              "      background-color: #434B5C;\n",
              "      box-shadow: 0px 1px 3px 1px rgba(0, 0, 0, 0.15);\n",
              "      filter: drop-shadow(0px 1px 2px rgba(0, 0, 0, 0.3));\n",
              "      fill: #FFFFFF;\n",
              "    }\n",
              "  </style>\n",
              "\n",
              "    <script>\n",
              "      const buttonEl =\n",
              "        document.querySelector('#df-15be9cf6-db8d-4f38-bf2a-0a9527edb1f1 button.colab-df-convert');\n",
              "      buttonEl.style.display =\n",
              "        google.colab.kernel.accessAllowed ? 'block' : 'none';\n",
              "\n",
              "      async function convertToInteractive(key) {\n",
              "        const element = document.querySelector('#df-15be9cf6-db8d-4f38-bf2a-0a9527edb1f1');\n",
              "        const dataTable =\n",
              "          await google.colab.kernel.invokeFunction('convertToInteractive',\n",
              "                                                    [key], {});\n",
              "        if (!dataTable) return;\n",
              "\n",
              "        const docLinkHtml = 'Like what you see? Visit the ' +\n",
              "          '<a target=\"_blank\" href=https://colab.research.google.com/notebooks/data_table.ipynb>data table notebook</a>'\n",
              "          + ' to learn more about interactive tables.';\n",
              "        element.innerHTML = '';\n",
              "        dataTable['output_type'] = 'display_data';\n",
              "        await google.colab.output.renderOutput(dataTable, element);\n",
              "        const docLink = document.createElement('div');\n",
              "        docLink.innerHTML = docLinkHtml;\n",
              "        element.appendChild(docLink);\n",
              "      }\n",
              "    </script>\n",
              "  </div>\n",
              "\n",
              "\n",
              "<div id=\"df-9a598682-7176-4059-a92b-83e4c9f18ec0\">\n",
              "  <button class=\"colab-df-quickchart\" onclick=\"quickchart('df-9a598682-7176-4059-a92b-83e4c9f18ec0')\"\n",
              "            title=\"Suggest charts\"\n",
              "            style=\"display:none;\">\n",
              "\n",
              "<svg xmlns=\"http://www.w3.org/2000/svg\" height=\"24px\"viewBox=\"0 0 24 24\"\n",
              "     width=\"24px\">\n",
              "    <g>\n",
              "        <path d=\"M19 3H5c-1.1 0-2 .9-2 2v14c0 1.1.9 2 2 2h14c1.1 0 2-.9 2-2V5c0-1.1-.9-2-2-2zM9 17H7v-7h2v7zm4 0h-2V7h2v10zm4 0h-2v-4h2v4z\"/>\n",
              "    </g>\n",
              "</svg>\n",
              "  </button>\n",
              "\n",
              "<style>\n",
              "  .colab-df-quickchart {\n",
              "      --bg-color: #E8F0FE;\n",
              "      --fill-color: #1967D2;\n",
              "      --hover-bg-color: #E2EBFA;\n",
              "      --hover-fill-color: #174EA6;\n",
              "      --disabled-fill-color: #AAA;\n",
              "      --disabled-bg-color: #DDD;\n",
              "  }\n",
              "\n",
              "  [theme=dark] .colab-df-quickchart {\n",
              "      --bg-color: #3B4455;\n",
              "      --fill-color: #D2E3FC;\n",
              "      --hover-bg-color: #434B5C;\n",
              "      --hover-fill-color: #FFFFFF;\n",
              "      --disabled-bg-color: #3B4455;\n",
              "      --disabled-fill-color: #666;\n",
              "  }\n",
              "\n",
              "  .colab-df-quickchart {\n",
              "    background-color: var(--bg-color);\n",
              "    border: none;\n",
              "    border-radius: 50%;\n",
              "    cursor: pointer;\n",
              "    display: none;\n",
              "    fill: var(--fill-color);\n",
              "    height: 32px;\n",
              "    padding: 0;\n",
              "    width: 32px;\n",
              "  }\n",
              "\n",
              "  .colab-df-quickchart:hover {\n",
              "    background-color: var(--hover-bg-color);\n",
              "    box-shadow: 0 1px 2px rgba(60, 64, 67, 0.3), 0 1px 3px 1px rgba(60, 64, 67, 0.15);\n",
              "    fill: var(--button-hover-fill-color);\n",
              "  }\n",
              "\n",
              "  .colab-df-quickchart-complete:disabled,\n",
              "  .colab-df-quickchart-complete:disabled:hover {\n",
              "    background-color: var(--disabled-bg-color);\n",
              "    fill: var(--disabled-fill-color);\n",
              "    box-shadow: none;\n",
              "  }\n",
              "\n",
              "  .colab-df-spinner {\n",
              "    border: 2px solid var(--fill-color);\n",
              "    border-color: transparent;\n",
              "    border-bottom-color: var(--fill-color);\n",
              "    animation:\n",
              "      spin 1s steps(1) infinite;\n",
              "  }\n",
              "\n",
              "  @keyframes spin {\n",
              "    0% {\n",
              "      border-color: transparent;\n",
              "      border-bottom-color: var(--fill-color);\n",
              "      border-left-color: var(--fill-color);\n",
              "    }\n",
              "    20% {\n",
              "      border-color: transparent;\n",
              "      border-left-color: var(--fill-color);\n",
              "      border-top-color: var(--fill-color);\n",
              "    }\n",
              "    30% {\n",
              "      border-color: transparent;\n",
              "      border-left-color: var(--fill-color);\n",
              "      border-top-color: var(--fill-color);\n",
              "      border-right-color: var(--fill-color);\n",
              "    }\n",
              "    40% {\n",
              "      border-color: transparent;\n",
              "      border-right-color: var(--fill-color);\n",
              "      border-top-color: var(--fill-color);\n",
              "    }\n",
              "    60% {\n",
              "      border-color: transparent;\n",
              "      border-right-color: var(--fill-color);\n",
              "    }\n",
              "    80% {\n",
              "      border-color: transparent;\n",
              "      border-right-color: var(--fill-color);\n",
              "      border-bottom-color: var(--fill-color);\n",
              "    }\n",
              "    90% {\n",
              "      border-color: transparent;\n",
              "      border-bottom-color: var(--fill-color);\n",
              "    }\n",
              "  }\n",
              "</style>\n",
              "\n",
              "  <script>\n",
              "    async function quickchart(key) {\n",
              "      const quickchartButtonEl =\n",
              "        document.querySelector('#' + key + ' button');\n",
              "      quickchartButtonEl.disabled = true;  // To prevent multiple clicks.\n",
              "      quickchartButtonEl.classList.add('colab-df-spinner');\n",
              "      try {\n",
              "        const charts = await google.colab.kernel.invokeFunction(\n",
              "            'suggestCharts', [key], {});\n",
              "      } catch (error) {\n",
              "        console.error('Error during call to suggestCharts:', error);\n",
              "      }\n",
              "      quickchartButtonEl.classList.remove('colab-df-spinner');\n",
              "      quickchartButtonEl.classList.add('colab-df-quickchart-complete');\n",
              "    }\n",
              "    (() => {\n",
              "      let quickchartButtonEl =\n",
              "        document.querySelector('#df-9a598682-7176-4059-a92b-83e4c9f18ec0 button');\n",
              "      quickchartButtonEl.style.display =\n",
              "        google.colab.kernel.accessAllowed ? 'block' : 'none';\n",
              "    })();\n",
              "  </script>\n",
              "</div>\n",
              "\n",
              "    </div>\n",
              "  </div>\n"
            ],
            "application/vnd.google.colaboratory.intrinsic+json": {
              "type": "dataframe",
              "variable_name": "data"
            }
          },
          "metadata": {},
          "execution_count": 8
        }
      ],
      "source": [
        "import pandas as pd\n",
        "import numpy as np\n",
        "import matplotlib.pyplot as plt\n",
        "import seaborn as sns\n",
        "\n",
        "import warnings\n",
        "warnings.filterwarnings('ignore')\n",
        "\n",
        "data = pd.read_csv('/content/voice.csv')\n",
        "data.head()"
      ]
    },
    {
      "cell_type": "code",
      "source": [
        "data.info()"
      ],
      "metadata": {
        "colab": {
          "base_uri": "https://localhost:8080/"
        },
        "id": "m0F8lqhjHxIn",
        "outputId": "7f949ed2-4400-4a95-8007-9907a8b8fe22"
      },
      "execution_count": 12,
      "outputs": [
        {
          "output_type": "stream",
          "name": "stdout",
          "text": [
            "<class 'pandas.core.frame.DataFrame'>\n",
            "RangeIndex: 3168 entries, 0 to 3167\n",
            "Data columns (total 21 columns):\n",
            " #   Column    Non-Null Count  Dtype  \n",
            "---  ------    --------------  -----  \n",
            " 0   meanfreq  3168 non-null   float64\n",
            " 1   sd        3168 non-null   float64\n",
            " 2   median    3168 non-null   float64\n",
            " 3   Q25       3168 non-null   float64\n",
            " 4   Q75       3168 non-null   float64\n",
            " 5   IQR       3168 non-null   float64\n",
            " 6   skew      3168 non-null   float64\n",
            " 7   kurt      3168 non-null   float64\n",
            " 8   sp.ent    3168 non-null   float64\n",
            " 9   sfm       3168 non-null   float64\n",
            " 10  mode      3168 non-null   float64\n",
            " 11  centroid  3168 non-null   float64\n",
            " 12  meanfun   3168 non-null   float64\n",
            " 13  minfun    3168 non-null   float64\n",
            " 14  maxfun    3168 non-null   float64\n",
            " 15  meandom   3168 non-null   float64\n",
            " 16  mindom    3168 non-null   float64\n",
            " 17  maxdom    3168 non-null   float64\n",
            " 18  dfrange   3168 non-null   float64\n",
            " 19  modindx   3168 non-null   float64\n",
            " 20  label     3168 non-null   object \n",
            "dtypes: float64(20), object(1)\n",
            "memory usage: 519.9+ KB\n"
          ]
        }
      ]
    },
    {
      "cell_type": "code",
      "source": [
        "data.isnull().sum()"
      ],
      "metadata": {
        "colab": {
          "base_uri": "https://localhost:8080/"
        },
        "id": "NplOeBHYIIVj",
        "outputId": "f6f9e321-57e1-4f03-f8c1-7813347f738d"
      },
      "execution_count": 14,
      "outputs": [
        {
          "output_type": "execute_result",
          "data": {
            "text/plain": [
              "meanfreq    0\n",
              "sd          0\n",
              "median      0\n",
              "Q25         0\n",
              "Q75         0\n",
              "IQR         0\n",
              "skew        0\n",
              "kurt        0\n",
              "sp.ent      0\n",
              "sfm         0\n",
              "mode        0\n",
              "centroid    0\n",
              "meanfun     0\n",
              "minfun      0\n",
              "maxfun      0\n",
              "meandom     0\n",
              "mindom      0\n",
              "maxdom      0\n",
              "dfrange     0\n",
              "modindx     0\n",
              "label       0\n",
              "dtype: int64"
            ]
          },
          "metadata": {},
          "execution_count": 14
        }
      ]
    },
    {
      "cell_type": "code",
      "source": [
        "data.columns"
      ],
      "metadata": {
        "colab": {
          "base_uri": "https://localhost:8080/"
        },
        "id": "kSQ7mGcfGn1s",
        "outputId": "4a5d905a-87db-4673-d6a4-ac07772c16b3"
      },
      "execution_count": 9,
      "outputs": [
        {
          "output_type": "execute_result",
          "data": {
            "text/plain": [
              "Index(['meanfreq', 'sd', 'median', 'Q25', 'Q75', 'IQR', 'skew', 'kurt',\n",
              "       'sp.ent', 'sfm', 'mode', 'centroid', 'meanfun', 'minfun', 'maxfun',\n",
              "       'meandom', 'mindom', 'maxdom', 'dfrange', 'modindx', 'label'],\n",
              "      dtype='object')"
            ]
          },
          "metadata": {},
          "execution_count": 9
        }
      ]
    },
    {
      "cell_type": "code",
      "source": [
        "data['label'].value_counts()"
      ],
      "metadata": {
        "colab": {
          "base_uri": "https://localhost:8080/"
        },
        "id": "1YsQWRaFERWo",
        "outputId": "046b8c40-d05b-4964-96ab-436c26c87b79"
      },
      "execution_count": 11,
      "outputs": [
        {
          "output_type": "execute_result",
          "data": {
            "text/plain": [
              "label\n",
              "male      1584\n",
              "female    1584\n",
              "Name: count, dtype: int64"
            ]
          },
          "metadata": {},
          "execution_count": 11
        }
      ]
    },
    {
      "cell_type": "code",
      "source": [
        "\n",
        "#define x and y\n",
        "\n",
        "X = data.iloc[:,:-1]\n",
        "y = data['label'].values"
      ],
      "metadata": {
        "id": "FuWiMF36DLc-"
      },
      "execution_count": 18,
      "outputs": []
    },
    {
      "cell_type": "code",
      "source": [
        "# notice that 'label' need to be encoded\n",
        "\n",
        "#normalization\n",
        "from sklearn.preprocessing import LabelEncoder, StandardScaler\n",
        "\n",
        "\n",
        "normal_X = StandardScaler() #normalize\n",
        "X = normal_X.fit_transform(X) #transform to array\n",
        "\n",
        "\n",
        "#encoding ( untuk tukar categorical kepada numeric )\n",
        "encod_y = LabelEncoder()\n",
        "y = encod_y.fit_transform(y)"
      ],
      "metadata": {
        "id": "z5r02JgcKgOv"
      },
      "execution_count": 19,
      "outputs": []
    },
    {
      "cell_type": "code",
      "source": [
        "X [:5]"
      ],
      "metadata": {
        "colab": {
          "base_uri": "https://localhost:8080/"
        },
        "id": "MToXV7RkKuY4",
        "outputId": "6d35c0a7-173e-4654-c259-b94ba5b0020c"
      },
      "execution_count": 20,
      "outputs": [
        {
          "output_type": "execute_result",
          "data": {
            "text/plain": [
              "array([[-4.04924806,  0.4273553 , -4.22490077, -2.57610164, -5.69360723,\n",
              "        -0.21477826,  2.29330585,  1.76294635, -0.03908279,  0.4715753 ,\n",
              "        -2.14121031, -4.04924806, -1.81203825, -1.0979981 ,  0.56595854,\n",
              "        -1.5642046 , -0.70840431, -1.43142165, -1.41913712, -1.45477229],\n",
              "       [-3.84105325,  0.6116695 , -3.99929342, -2.48688452, -5.58898726,\n",
              "        -0.25848536,  4.54805598,  4.43300778, -0.06523603,  0.59443122,\n",
              "        -2.14121031, -3.84105325, -1.07959443, -1.09153262, -0.29403034,\n",
              "        -1.56191576, -0.70840431, -1.41810716, -1.4058184 , -1.01410294],\n",
              "       [-3.46306647,  1.60384791, -4.09585052, -2.7069865 , -3.92869875,\n",
              "         0.90932569,  6.51365636,  7.32620677, -1.08373029,  0.39826097,\n",
              "        -2.14121031, -3.46306647, -1.36536788, -1.10039656,  0.41048032,\n",
              "        -1.56386648, -0.70840431, -1.42920257, -1.41691733, -1.06534356],\n",
              "       [-0.99215739,  0.89999793, -0.75945371, -0.90141834, -0.7112046 ,\n",
              "         0.63269035, -0.44985837, -0.24009931,  1.51638269,  1.79733981,\n",
              "        -1.05457622, -0.99215739, -1.66696584, -0.98893356, -0.29403034,\n",
              "        -1.1953668 , -0.70840431, -1.27386686, -1.26153232,  0.61428596],\n",
              "       [-1.53064039,  1.32256096, -1.67694793, -1.26839521, -0.79202875,\n",
              "         1.0055881 , -0.48091073, -0.23893987,  1.70833622,  2.11473955,\n",
              "        -0.79051354, -1.53064039, -1.12723346, -1.03401549,  0.26018471,\n",
              "        -0.22165979, -0.70840431,  0.12415445,  0.13693282,  0.28904621]])"
            ]
          },
          "metadata": {},
          "execution_count": 20
        }
      ]
    },
    {
      "cell_type": "code",
      "source": [
        "y"
      ],
      "metadata": {
        "colab": {
          "base_uri": "https://localhost:8080/"
        },
        "id": "hI6A7da3MVSV",
        "outputId": "063165c4-0650-4fcf-f4d1-4a2ff58264c2"
      },
      "execution_count": 21,
      "outputs": [
        {
          "output_type": "execute_result",
          "data": {
            "text/plain": [
              "array([1, 1, 1, ..., 0, 0, 0])"
            ]
          },
          "metadata": {},
          "execution_count": 21
        }
      ]
    },
    {
      "cell_type": "code",
      "source": [
        "#modelling\n",
        "\n",
        "from sklearn.model_selection import train_test_split\n",
        "\n",
        "X_train, X_test, y_train, y_test = train_test_split(X, y, test_size=0.2, random_state=0)\n",
        "\n",
        "X_train.shape"
      ],
      "metadata": {
        "colab": {
          "base_uri": "https://localhost:8080/"
        },
        "id": "boSId1XSMaDa",
        "outputId": "2a447656-9cc5-4a81-b002-3458edcb0914"
      },
      "execution_count": 22,
      "outputs": [
        {
          "output_type": "execute_result",
          "data": {
            "text/plain": [
              "(2534, 20)"
            ]
          },
          "metadata": {},
          "execution_count": 22
        }
      ]
    },
    {
      "cell_type": "code",
      "source": [
        "#modelling of algorithm\n",
        "\n",
        "from sklearn.svm import SVC\n",
        "\n",
        "SVM_voice = SVC() #default is rbf 98.42271293375394\n",
        "#SVM_bank = SVC(kernel='linear')\n",
        "#SVM_bank = SVC(kernel='poly') ##The accuracy is 70.3999\n",
        "#SVM_bank = SVC(kernel='sigmoid') #The accuracy is 59.599999999999994\n",
        "\n",
        "\n",
        "#train\n",
        "SVM_voice.fit(X_train, y_train)\n",
        "\n",
        "#predict\n",
        "y_hat = SVM_voice.predict(X_test)\n",
        "\n",
        "#evaluation\n",
        "from sklearn.metrics import accuracy_score\n",
        "\n",
        "print('The accuracy based on RBF kernel is: ', (accuracy_score(y_test, y_hat))*100)"
      ],
      "metadata": {
        "colab": {
          "base_uri": "https://localhost:8080/"
        },
        "id": "nysDXR9mMpYx",
        "outputId": "a94d9daf-3c2b-45c9-9df1-58f4920a6e8b"
      },
      "execution_count": 23,
      "outputs": [
        {
          "output_type": "stream",
          "name": "stdout",
          "text": [
            "The accuracy based on RBF kernel is:  98.42271293375394\n"
          ]
        }
      ]
    },
    {
      "cell_type": "code",
      "source": [
        "from sklearn.svm import SVC\n",
        "\n",
        "SVM_voice = SVC(kernel = 'linear') #default is rbf 98.42271293375394\n",
        "#SVM_bank = SVC(kernel='linear')\n",
        "#SVM_bank = SVC(kernel='poly') ##The accuracy is 70.3999\n",
        "#SVM_bank = SVC(kernel='sigmoid') #The accuracy is 59.599999999999994\n",
        "\n",
        "\n",
        "#train\n",
        "SVM_voice.fit(X_train, y_train)\n",
        "\n",
        "#predict\n",
        "y_hat = SVM_voice.predict(X_test)\n",
        "\n",
        "#evaluation\n",
        "from sklearn.metrics import accuracy_score\n",
        "\n",
        "print('The accuracy based on linear kernel is: ', (accuracy_score(y_test, y_hat))*100)"
      ],
      "metadata": {
        "colab": {
          "base_uri": "https://localhost:8080/"
        },
        "id": "YqMOZqOvM7-m",
        "outputId": "671fcb41-dc10-4802-b5a2-a1d7e23d5753"
      },
      "execution_count": 24,
      "outputs": [
        {
          "output_type": "stream",
          "name": "stdout",
          "text": [
            "The accuracy based on linear kernel is:  97.3186119873817\n"
          ]
        }
      ]
    },
    {
      "cell_type": "code",
      "source": [
        "from sklearn.svm import SVC\n",
        "\n",
        "SVM_voice = SVC(kernel = 'sigmoid') #default is rbf 98.42271293375394\n",
        "#SVM_bank = SVC(kernel='linear')\n",
        "#SVM_bank = SVC(kernel='poly') ##The accuracy is 70.3999\n",
        "#SVM_bank = SVC(kernel='sigmoid') #The accuracy is 59.599999999999994\n",
        "\n",
        "\n",
        "#train\n",
        "SVM_voice.fit(X_train, y_train)\n",
        "\n",
        "#predict\n",
        "y_hat = SVM_voice.predict(X_test)\n",
        "\n",
        "#evaluation\n",
        "from sklearn.metrics import accuracy_score\n",
        "\n",
        "print('The accuracy based on Sigmoid kernel is: ', (accuracy_score(y_test, y_hat))*100)"
      ],
      "metadata": {
        "colab": {
          "base_uri": "https://localhost:8080/"
        },
        "id": "2824IXBtNJQ3",
        "outputId": "48aaa539-4fcc-46d2-e08c-eb057b3b5b58"
      },
      "execution_count": 26,
      "outputs": [
        {
          "output_type": "stream",
          "name": "stdout",
          "text": [
            "The accuracy based on Sigmoid kernel is:  79.02208201892745\n"
          ]
        }
      ]
    },
    {
      "cell_type": "code",
      "source": [
        "from sklearn.svm import SVC\n",
        "\n",
        "SVM_voice = SVC(kernel = 'poly') #default is rbf 98.42271293375394\n",
        "#SVM_bank = SVC(kernel='linear')\n",
        "#SVM_bank = SVC(kernel='poly') ##The accuracy is 70.3999\n",
        "#SVM_bank = SVC(kernel='sigmoid') #The accuracy is 59.599999999999994\n",
        "\n",
        "\n",
        "#train\n",
        "SVM_voice.fit(X_train, y_train)\n",
        "\n",
        "#predict\n",
        "y_hat = SVM_voice.predict(X_test)\n",
        "\n",
        "#evaluation\n",
        "from sklearn.metrics import accuracy_score\n",
        "\n",
        "print('The accuracy based on Polynomial kernel is: ', (accuracy_score(y_test, y_hat))*100)"
      ],
      "metadata": {
        "colab": {
          "base_uri": "https://localhost:8080/"
        },
        "id": "5MChl9hAOuq0",
        "outputId": "e79e8c09-e125-483d-f116-e94201153383"
      },
      "execution_count": 29,
      "outputs": [
        {
          "output_type": "stream",
          "name": "stdout",
          "text": [
            "The accuracy based on Polynomial kernel is:  95.89905362776025\n"
          ]
        }
      ]
    },
    {
      "cell_type": "markdown",
      "source": [
        "Cross Validation\n",
        "Why Cross Validate?\n",
        "\n",
        "cross-validation is a valuable technique for model evaluation, selection, and tuning. It helps ensure that a model performs well on unseen data, provides a more accurate estimate of its performance, and aids in making data-driven decisions about model selection and parameter tuning.\n",
        "\n",
        "How to Code?\n",
        "\n",
        "cross_val_score: This function evaluates a model's performance using cross-validation. Cross-validation is a technique used to assess the generalizability of a model by partitioning the data into training and validation sets multiple times.\n",
        "\n",
        "Purpose of the Code\n",
        "\n",
        "The primary goal of this code is to evaluate the performance and generalizability of the SVM model (SVM_voice) on the given dataset (X and y). By using cross-validation, the model's performance is assessed more reliably, as it reduces the risk of overfitting and provides a better estimate of how the model will perform on unseen data.\n",
        "\n",
        "The verbose=2 parameter helps monitor the process by providing detailed information about the progress of the cross-validation and the performance in each fold. This can be useful for debugging and understanding how well the model is performing at each step."
      ],
      "metadata": {
        "id": "j-b6MkBkbmBB"
      }
    },
    {
      "cell_type": "code",
      "source": [
        "from sklearn.model_selection import cross_val_score\n",
        "\n",
        "SVM_voice = SVC()\n",
        "\n",
        "mean_accuracy = cross_val_score(SVM_voice, X, y, cv=5, scoring='accuracy', verbose=2) #verbose is 0,1,2(2 is to see the process)\n",
        "\n",
        "print('The total number of accuracy are: ', mean_accuracy)\n",
        "print('')\n",
        "print('The average of all is: ', (np.mean(mean_accuracy))*100)"
      ],
      "metadata": {
        "colab": {
          "base_uri": "https://localhost:8080/"
        },
        "id": "SEy-_JBGO2tF",
        "outputId": "676859b8-89f9-4d66-f895-3d55000bb384"
      },
      "execution_count": 30,
      "outputs": [
        {
          "output_type": "stream",
          "name": "stdout",
          "text": [
            "[CV] END .................................................... total time=   0.2s\n",
            "[CV] END .................................................... total time=   0.2s\n",
            "[CV] END .................................................... total time=   0.1s\n",
            "[CV] END .................................................... total time=   0.2s\n",
            "[CV] END .................................................... total time=   0.1s\n",
            "The total number of accuracy are:  [0.94006309 0.97003155 0.98107256 0.98894155 0.95734597]\n",
            "\n",
            "The average of all is:  96.74909424352516\n"
          ]
        }
      ]
    },
    {
      "cell_type": "code",
      "source": [
        "from sklearn.model_selection import cross_val_score\n",
        "\n",
        "SVM_voice = SVC(kernel = 'linear')\n",
        "\n",
        "mean_accuracy = cross_val_score(SVM_voice, X, y, cv=5, scoring='accuracy', verbose=2) #verbose is 0,1,2(2 is to see the process)\n",
        "\n",
        "print('The total number of accuracy are: ', mean_accuracy)\n",
        "print('')\n",
        "print('The average of all is: ', (np.mean(mean_accuracy))*100)"
      ],
      "metadata": {
        "colab": {
          "base_uri": "https://localhost:8080/"
        },
        "id": "Qdhvnb0_b1aU",
        "outputId": "3f9ef23d-b851-4d36-a87e-d979beb93ad2"
      },
      "execution_count": 31,
      "outputs": [
        {
          "output_type": "stream",
          "name": "stdout",
          "text": [
            "[CV] END .................................................... total time=   0.2s\n",
            "[CV] END .................................................... total time=   0.1s\n",
            "[CV] END .................................................... total time=   0.1s\n",
            "[CV] END .................................................... total time=   0.1s\n",
            "[CV] END .................................................... total time=   0.1s\n",
            "The total number of accuracy are:  [0.92902208 0.97791798 0.97318612 0.98262243 0.97314376]\n",
            "\n",
            "The average of all is:  96.71784751396632\n"
          ]
        }
      ]
    },
    {
      "cell_type": "code",
      "source": [
        "from sklearn.model_selection import cross_val_score\n",
        "\n",
        "SVM_voice = SVC(kernel = 'sigmoid')\n",
        "\n",
        "mean_accuracy = cross_val_score(SVM_voice, X, y, cv=5, scoring='accuracy', verbose=2) #verbose is 0,1,2(2 is to see the process)\n",
        "\n",
        "print('The total number of accuracy are: ', mean_accuracy)\n",
        "print('')\n",
        "print('The average of all is: ', (np.mean(mean_accuracy))*100)"
      ],
      "metadata": {
        "colab": {
          "base_uri": "https://localhost:8080/"
        },
        "id": "_-tfIkcncIxc",
        "outputId": "a576ee69-0f35-46bd-8c03-aa947c479974"
      },
      "execution_count": 32,
      "outputs": [
        {
          "output_type": "stream",
          "name": "stdout",
          "text": [
            "[CV] END .................................................... total time=   0.2s\n",
            "[CV] END .................................................... total time=   0.4s\n",
            "[CV] END .................................................... total time=   0.3s\n",
            "[CV] END .................................................... total time=   0.6s\n",
            "[CV] END .................................................... total time=   0.5s\n",
            "The total number of accuracy are:  [0.70347003 0.85804416 0.84227129 0.77567141 0.70616114]\n",
            "\n",
            "The average of all is:  77.71236064805817\n"
          ]
        }
      ]
    },
    {
      "cell_type": "code",
      "source": [
        "from sklearn.model_selection import cross_val_score\n",
        "\n",
        "SVM_voice = SVC(kernel = 'poly')\n",
        "\n",
        "mean_accuracy = cross_val_score(SVM_voice, X, y, cv=5, scoring='accuracy', verbose=2) #verbose is 0,1,2(2 is to see the process)\n",
        "\n",
        "print('The total number of accuracy are: ', mean_accuracy)\n",
        "print('')\n",
        "print('The average of all is: ', (np.mean(mean_accuracy))*100)"
      ],
      "metadata": {
        "colab": {
          "base_uri": "https://localhost:8080/"
        },
        "id": "VE29GSJAcOEW",
        "outputId": "e9d0303d-08a7-4cff-c1e4-6ef1ebecf758"
      },
      "execution_count": 33,
      "outputs": [
        {
          "output_type": "stream",
          "name": "stdout",
          "text": [
            "[CV] END .................................................... total time=   0.1s\n",
            "[CV] END .................................................... total time=   0.2s\n",
            "[CV] END .................................................... total time=   0.2s\n",
            "[CV] END .................................................... total time=   0.2s\n",
            "[CV] END .................................................... total time=   0.2s\n",
            "The total number of accuracy are:  [0.90851735 0.92271293 0.97160883 0.96840442 0.92575039]\n",
            "\n",
            "The average of all is:  93.93987870089354\n"
          ]
        }
      ]
    },
    {
      "cell_type": "markdown",
      "source": [
        "**Purpose and Goals (Kenapa Kita Buat Semua Ni?) **\n",
        "\n",
        "Awal-awal tadi dia ajar run model sekali (just once), tapi this dia ajar untuk model run a few times and bagi the average accuracy.\n",
        "\n",
        "\n",
        "1.  Model Evaluation: The primary goal is to assess the generalizability of the SVM model by evaluating its performance across different subsets of the data. Cross-validation provides a more reliable estimate of the model's accuracy than a single train-test split.\n",
        "\n",
        "2.   Performance Metrics: The code calculates and prints the accuracy for each fold and the average accuracy, providing insights into the model's performance consistency and overall effectiveness.\n",
        "\n",
        "\n",
        "3.   Prevent Overfitting: By using cross-validation, the code helps prevent overfitting, ensuring that the model is not just learning noise from the training data but can generalize well to unseen data.\n",
        "\n",
        "4.   Detailed Process Monitoring: The verbose=2 parameter allows for detailed monitoring of the cross-validation process, which can be useful for understanding the model's behavior and debugging purposes.\n",
        "\n",
        "\n",
        "\n",
        "\n",
        "\n",
        "\n",
        "\n"
      ],
      "metadata": {
        "id": "mWse3VrXcd8V"
      }
    }
  ]
}